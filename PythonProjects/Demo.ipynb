{
 "cells": [
  {
   "cell_type": "code",
   "execution_count": 6,
   "metadata": {},
   "outputs": [
    {
     "name": "stdout",
     "output_type": "stream",
     "text": [
      "4\n"
     ]
    }
   ],
   "source": [
    "a=2\n",
    "b=2\n",
    "c=a+b\n",
    "print(c)"
   ]
  },
  {
   "cell_type": "code",
   "execution_count": 7,
   "metadata": {},
   "outputs": [
    {
     "name": "stdout",
     "output_type": "stream",
     "text": [
      "hajurah\n"
     ]
    }
   ],
   "source": [
    "a=\"harujah\"\n",
    "print(a[::-1])\n"
   ]
  },
  {
   "cell_type": "code",
   "execution_count": 6,
   "metadata": {},
   "outputs": [
    {
     "name": "stdout",
     "output_type": "stream",
     "text": [
      "[True, False, True, False, True, False, True, False, True, False, True]\n",
      "[0, 2, 4, 6, 8, 10]\n"
     ]
    }
   ],
   "source": [
    "def evenFn(num):\n",
    "    return num % 2 == 0\n",
    "a = [0,1,2,3,4,5,6,7,8,9,10]\n",
    "print(list(map(evenFn,a)))\n",
    "print(list(filter(evenFn,a)))"
   ]
  },
  {
   "cell_type": "markdown",
   "metadata": {},
   "source": [
    "Lambda function - to create anonymous function without def"
   ]
  },
  {
   "cell_type": "code",
   "execution_count": 7,
   "metadata": {},
   "outputs": [
    {
     "data": {
      "text/plain": [
       "216"
      ]
     },
     "execution_count": 7,
     "metadata": {},
     "output_type": "execute_result"
    }
   ],
   "source": [
    "def cube(num):\n",
    "    return num**3\n",
    "cube(6)"
   ]
  },
  {
   "cell_type": "code",
   "execution_count": 8,
   "metadata": {},
   "outputs": [
    {
     "data": {
      "text/plain": [
       "216"
      ]
     },
     "execution_count": 8,
     "metadata": {},
     "output_type": "execute_result"
    }
   ],
   "source": [
    "cube = lambda num: num**3\n",
    "cube(6)"
   ]
  },
  {
   "cell_type": "markdown",
   "metadata": {},
   "source": [
    "*args and **kwargs"
   ]
  },
  {
   "cell_type": "code",
   "execution_count": 9,
   "metadata": {},
   "outputs": [
    {
     "data": {
      "text/plain": [
       "6"
      ]
     },
     "execution_count": 9,
     "metadata": {},
     "output_type": "execute_result"
    }
   ],
   "source": [
    "def addnumbers(a,b,c):\n",
    "    add = a+b+c\n",
    "    return add\n",
    "addnumbers(1,2,3)"
   ]
  },
  {
   "cell_type": "code",
   "execution_count": 10,
   "metadata": {},
   "outputs": [
    {
     "data": {
      "text/plain": [
       "6"
      ]
     },
     "execution_count": 10,
     "metadata": {},
     "output_type": "execute_result"
    }
   ],
   "source": [
    "def addnumbers(*arg):\n",
    "    return sum(arg)\n",
    "addnumbers(1,2,3)"
   ]
  },
  {
   "cell_type": "markdown",
   "metadata": {},
   "source": [
    "**Kwargs - dictionary of key/value pairs"
   ]
  },
  {
   "cell_type": "code",
   "execution_count": 14,
   "metadata": {},
   "outputs": [
    {
     "name": "stdout",
     "output_type": "stream",
     "text": [
      "My name is sanju harujah\n",
      "My age is 29\n"
     ]
    }
   ],
   "source": [
    "def func(**kwargs):\n",
    "    if 'name' in kwargs:\n",
    "        print(\"My name is {0}\".format(kwargs['name']))\n",
    "    if 'age' in kwargs:\n",
    "        print(\"My age is {0}\".format(kwargs['age']))\n",
    "    else:\n",
    "        print(\"no key found!!\")\n",
    "func(name='sanju harujah',age=29)"
   ]
  },
  {
   "cell_type": "markdown",
   "metadata": {},
   "source": [
    "OOP"
   ]
  },
  {
   "cell_type": "code",
   "execution_count": 15,
   "metadata": {},
   "outputs": [
    {
     "name": "stdout",
     "output_type": "stream",
     "text": [
      "hello\n",
      "<class '__main__.Student'>\n"
     ]
    }
   ],
   "source": [
    "class Student:\n",
    "    print(\"hello\")\n",
    "x=Student() #object instantiation - assiging a variable for the class\n",
    "print(type(x))"
   ]
  },
  {
   "cell_type": "code",
   "execution_count": 16,
   "metadata": {},
   "outputs": [
    {
     "name": "stdout",
     "output_type": "stream",
     "text": [
      "hello\n"
     ]
    }
   ],
   "source": [
    "class Student:\n",
    "    def func():\n",
    "        print(\"hello\")\n",
    "Student.func()"
   ]
  },
  {
   "cell_type": "code",
   "execution_count": 17,
   "metadata": {},
   "outputs": [
    {
     "name": "stdout",
     "output_type": "stream",
     "text": [
      "hello 2021\n"
     ]
    }
   ],
   "source": [
    "class Student:\n",
    "    year = '2021'\n",
    "    def func(self):\n",
    "        print('hello',self.year)\n",
    "x = Student()\n",
    "x.func()"
   ]
  },
  {
   "cell_type": "code",
   "execution_count": 18,
   "metadata": {},
   "outputs": [
    {
     "name": "stdout",
     "output_type": "stream",
     "text": [
      "Musk\n",
      "haru\n"
     ]
    }
   ],
   "source": [
    "class Student:\n",
    "    def __init__(self,name):\n",
    "        self.name = name\n",
    "elon = Student(name='Musk')\n",
    "sanju = Student(name='haru')\n",
    "\n",
    "print(elon.name)\n",
    "print(sanju.name)\n",
    "        "
   ]
  },
  {
   "cell_type": "code",
   "execution_count": 21,
   "metadata": {},
   "outputs": [
    {
     "name": "stdout",
     "output_type": "stream",
     "text": [
      "Musk\n",
      "23\n",
      "haru\n"
     ]
    }
   ],
   "source": [
    "class Student:\n",
    "    def __init__(self,name,age):\n",
    "        self.name = name\n",
    "        self.age = age\n",
    "elon = Student(name='Musk',age=23)\n",
    "sanju = Student(name='haru',age=21)\n",
    "\n",
    "print(elon.name)\n",
    "print(elon.age)\n",
    "print(sanju.name)"
   ]
  },
  {
   "cell_type": "code",
   "execution_count": 23,
   "metadata": {},
   "outputs": [
    {
     "name": "stdout",
     "output_type": "stream",
     "text": [
      "initialized...\n",
      "500\n",
      "50\n",
      "90.0\n"
     ]
    }
   ],
   "source": [
    "class Student:\n",
    "    total = 500\n",
    "\n",
    "    def __init__(self,marks):\n",
    "        self.marks = marks\n",
    "        print('initialized...')\n",
    "    \n",
    "    def findloss(self):\n",
    "        return self.total - self.marks\n",
    "    \n",
    "    def findpersc(self):\n",
    "        return self.marks/self.total*100\n",
    "    \n",
    "a= Student(marks=450)\n",
    "\n",
    "print(a.total)\n",
    "print(a.findloss())\n",
    "print(a.findpersc())\n"
   ]
  },
  {
   "cell_type": "code",
   "execution_count": 26,
   "metadata": {},
   "outputs": [
    {
     "name": "stdout",
     "output_type": "stream",
     "text": [
      "profile created\n",
      "this is subclass\n",
      "School\n"
     ]
    }
   ],
   "source": [
    "class teacher:\n",
    "\n",
    "\n",
    "    def __init__(self):\n",
    "        print(\"profile created\")   \n",
    "    def name(self):\n",
    "        print(\"Malar\")\n",
    "    def age(self):\n",
    "        print('32')\n",
    "\n",
    "class student(teacher):\n",
    "\n",
    "    def __init__(self):\n",
    "        teacher.__init__(self)\n",
    "        print('this is subclass')\n",
    "    def name(self):\n",
    "        print(\"School\")\n",
    "\n",
    "a = student()\n",
    "a.name()\n",
    "\n"
   ]
  },
  {
   "cell_type": "markdown",
   "metadata": {},
   "source": [
    "Python decorators"
   ]
  },
  {
   "cell_type": "code",
   "execution_count": null,
   "metadata": {},
   "outputs": [],
   "source": []
  }
 ],
 "metadata": {
  "kernelspec": {
   "display_name": "myenv",
   "language": "python",
   "name": "python3"
  },
  "language_info": {
   "codemirror_mode": {
    "name": "ipython",
    "version": 3
   },
   "file_extension": ".py",
   "mimetype": "text/x-python",
   "name": "python",
   "nbconvert_exporter": "python",
   "pygments_lexer": "ipython3",
   "version": "3.9.5"
  }
 },
 "nbformat": 4,
 "nbformat_minor": 2
}
